{
 "cells": [
  {
   "cell_type": "code",
   "execution_count": 1,
   "id": "7a50cc40",
   "metadata": {},
   "outputs": [
    {
     "name": "stdout",
     "output_type": "stream",
     "text": [
      "Requirement already satisfied: pyyaml in c:\\users\\91637\\anaconda3\\lib\\site-packages (5.4.1)\n",
      "Requirement already satisfied: flask in c:\\users\\91637\\anaconda3\\lib\\site-packages (1.1.2)\n",
      "Requirement already satisfied: itsdangerous>=0.24 in c:\\users\\91637\\anaconda3\\lib\\site-packages (from flask) (1.1.0)\n",
      "Requirement already satisfied: Jinja2>=2.10.1 in c:\\users\\91637\\anaconda3\\lib\\site-packages (from flask) (2.11.3)\n",
      "Requirement already satisfied: Werkzeug>=0.15 in c:\\users\\91637\\anaconda3\\lib\\site-packages (from flask) (1.0.1)\n",
      "Requirement already satisfied: click>=5.1 in c:\\users\\91637\\anaconda3\\lib\\site-packages (from flask) (7.1.2)\n",
      "Requirement already satisfied: MarkupSafe>=0.23 in c:\\users\\91637\\anaconda3\\lib\\site-packages (from Jinja2>=2.10.1->flask) (1.1.1)\n"
     ]
    }
   ],
   "source": [
    "# ✅ Install dependencies\n",
    "!pip install pyyaml flask"
   ]
  },
  {
   "cell_type": "code",
   "execution_count": 2,
   "id": "964296c2",
   "metadata": {},
   "outputs": [],
   "source": [
    "# 🧠 Import libraries & define utility functions\n",
    "import os\n",
    "import yaml\n",
    "import json\n",
    "import sqlite3\n",
    "from flask import Flask, jsonify\n",
    "\n",
    "CONFIG_FILE = 'docker-compose.yml'\n",
    "DB_FILE = 'config_data.db'\n",
    "TABLE_NAME = 'config_json'\n",
    "\n",
    "def read_config_file(path):\n",
    "    if not os.path.exists(path):\n",
    "        raise FileNotFoundError(f\"Configuration file '{path}' not found.\")\n",
    "    try:\n",
    "        with open(path, 'r') as f:\n",
    "            return yaml.safe_load(f)\n",
    "    except Exception as e:\n",
    "        raise IOError(f\"Failed to read the file: {e}\")\n",
    "\n",
    "def extract_services(config):\n",
    "    services_info = []\n",
    "    services = config.get('services', {})\n",
    "    for name, details in services.items():\n",
    "        service = {\n",
    "            'name': name,\n",
    "            'image': details.get('image', 'N/A'),\n",
    "            'build': details.get('build', 'N/A'),\n",
    "            'ports': details.get('ports', [])\n",
    "        }\n",
    "        services_info.append(service)\n",
    "    return services_info\n",
    "\n",
    "def store_json_in_db(data):\n",
    "    conn = sqlite3.connect(DB_FILE)\n",
    "    cursor = conn.cursor()\n",
    "    cursor.execute(f'''\n",
    "        CREATE TABLE IF NOT EXISTS {TABLE_NAME} (\n",
    "            id INTEGER PRIMARY KEY AUTOINCREMENT,\n",
    "            data TEXT NOT NULL\n",
    "        )\n",
    "    ''')\n",
    "    cursor.execute(f'INSERT INTO {TABLE_NAME} (data) VALUES (?)', (json.dumps(data),))\n",
    "    conn.commit()\n",
    "    conn.close()\n",
    "\n",
    "def fetch_data_from_db():\n",
    "    conn = sqlite3.connect(DB_FILE)\n",
    "    cursor = conn.cursor()\n",
    "    cursor.execute(f'SELECT data FROM {TABLE_NAME} ORDER BY id DESC LIMIT 1')\n",
    "    result = cursor.fetchone()\n",
    "    conn.close()\n",
    "    return json.loads(result[0]) if result else {}"
   ]
  },
  {
   "cell_type": "code",
   "execution_count": 3,
   "id": "aaba02cc",
   "metadata": {},
   "outputs": [
    {
     "name": "stdout",
     "output_type": "stream",
     "text": [
      "✅ Configuration data successfully extracted and stored.\n"
     ]
    }
   ],
   "source": [
    "# 🔁 Extract and Store Config Data\n",
    "try:\n",
    "    config_data = read_config_file(CONFIG_FILE)\n",
    "    extracted_data = extract_services(config_data)\n",
    "    store_json_in_db(extracted_data)\n",
    "    print(\"✅ Configuration data successfully extracted and stored.\")\n",
    "except Exception as e:\n",
    "    print(f\"❌ Error: {e}\")"
   ]
  },
  {
   "cell_type": "code",
   "execution_count": 4,
   "id": "e5aff3fd",
   "metadata": {},
   "outputs": [
    {
     "name": "stdout",
     "output_type": "stream",
     "text": [
      "[{'build': './app', 'image': 'N/A', 'name': 'web', 'ports': ['5000:5000']},\n",
      " {'build': 'N/A', 'image': 'postgres:13', 'name': 'db', 'ports': []},\n",
      " {'build': 'N/A',\n",
      "  'image': 'dpage/pgadmin4',\n",
      "  'name': 'pgadmin',\n",
      "  'ports': ['8080:80']}]\n"
     ]
    }
   ],
   "source": [
    "# 🔍 Fetch from DB (Simulate GET /config)\n",
    "from pprint import pprint\n",
    "data = fetch_data_from_db()\n",
    "pprint(data)"
   ]
  },
  {
   "cell_type": "code",
   "execution_count": null,
   "id": "cbaf9975",
   "metadata": {},
   "outputs": [
    {
     "name": "stdout",
     "output_type": "stream",
     "text": [
      " * Serving Flask app \"__main__\" (lazy loading)\n",
      " * Environment: production\n",
      "   WARNING: This is a development server. Do not use it in a production deployment.\n",
      "   Use a production WSGI server instead.\n",
      " * Debug mode: off\n"
     ]
    },
    {
     "name": "stderr",
     "output_type": "stream",
     "text": [
      " * Running on http://127.0.0.1:5001/ (Press CTRL+C to quit)\n"
     ]
    }
   ],
   "source": [
    "# 🚀 Optional: Run Flask API inside Notebook\n",
    "app = Flask(__name__)\n",
    "\n",
    "@app.route('/config', methods=['GET'])\n",
    "def get_config():\n",
    "    data = fetch_data_from_db()\n",
    "    return jsonify(data)\n",
    "\n",
    "# Non-blocking flask for notebook usage\n",
    "app.run(debug=False, port=5001, use_reloader=False)"
   ]
  }
 ],
 "metadata": {
  "kernelspec": {
   "display_name": "Python 3",
   "language": "python",
   "name": "python3"
  },
  "language_info": {
   "codemirror_mode": {
    "name": "ipython",
    "version": 3
   },
   "file_extension": ".py",
   "mimetype": "text/x-python",
   "name": "python",
   "nbconvert_exporter": "python",
   "pygments_lexer": "ipython3",
   "version": "3.8.8"
  }
 },
 "nbformat": 4,
 "nbformat_minor": 5
}
